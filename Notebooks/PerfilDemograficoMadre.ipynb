{
 "cells": [
  {
   "cell_type": "code",
   "execution_count": 5,
   "metadata": {},
   "outputs": [
    {
     "data": {
      "text/plain": [
       "(2496358, 38)"
      ]
     },
     "execution_count": 5,
     "metadata": {},
     "output_type": "execute_result"
    }
   ],
   "source": [
    "import pandas as pd \n",
    "\n",
    "\n",
    "nacs = pd.read_csv('C:/Users/camix/Documents/BIProy2/data/nacs.csv', encoding=\"ISO-8859-1\")\n",
    "nacs.shape"
   ]
  },
  {
   "cell_type": "code",
   "execution_count": 11,
   "metadata": {},
   "outputs": [
    {
     "data": {
      "text/html": [
       "<div>\n",
       "<style scoped>\n",
       "    .dataframe tbody tr th:only-of-type {\n",
       "        vertical-align: middle;\n",
       "    }\n",
       "\n",
       "    .dataframe tbody tr th {\n",
       "        vertical-align: top;\n",
       "    }\n",
       "\n",
       "    .dataframe thead th {\n",
       "        text-align: right;\n",
       "    }\n",
       "</style>\n",
       "<table border=\"1\" class=\"dataframe\">\n",
       "  <thead>\n",
       "    <tr style=\"text-align: right;\">\n",
       "      <th></th>\n",
       "      <th>COD_DPTO</th>\n",
       "      <th>COD_MUNIC</th>\n",
       "      <th>AREANAC</th>\n",
       "      <th>SIT_PARTO</th>\n",
       "      <th>OTRO_SIT</th>\n",
       "      <th>SEXO</th>\n",
       "      <th>PESO_NAC</th>\n",
       "      <th>TALLA_NAC</th>\n",
       "      <th>ANO</th>\n",
       "      <th>MES</th>\n",
       "      <th>...</th>\n",
       "      <th>AREA_RES</th>\n",
       "      <th>N_HIJOSV</th>\n",
       "      <th>FECHA_NACM</th>\n",
       "      <th>N_EMB</th>\n",
       "      <th>SEG_SOCIAL</th>\n",
       "      <th>IDCLASADMI</th>\n",
       "      <th>EDAD_PADRE</th>\n",
       "      <th>NIV_EDUP</th>\n",
       "      <th>ULTCURPAD</th>\n",
       "      <th>PROFESION</th>\n",
       "    </tr>\n",
       "  </thead>\n",
       "  <tbody>\n",
       "    <tr>\n",
       "      <th>51828</th>\n",
       "      <td>5</td>\n",
       "      <td>1</td>\n",
       "      <td>1</td>\n",
       "      <td>1</td>\n",
       "      <td>NaN</td>\n",
       "      <td>2</td>\n",
       "      <td>6</td>\n",
       "      <td>5</td>\n",
       "      <td>2017</td>\n",
       "      <td>5</td>\n",
       "      <td>...</td>\n",
       "      <td>1.0</td>\n",
       "      <td>2</td>\n",
       "      <td>27/12/2005</td>\n",
       "      <td>3</td>\n",
       "      <td>1</td>\n",
       "      <td>1.0</td>\n",
       "      <td>39</td>\n",
       "      <td>4</td>\n",
       "      <td>11</td>\n",
       "      <td>1.0</td>\n",
       "    </tr>\n",
       "    <tr>\n",
       "      <th>74026</th>\n",
       "      <td>66</td>\n",
       "      <td>1</td>\n",
       "      <td>1</td>\n",
       "      <td>1</td>\n",
       "      <td>NaN</td>\n",
       "      <td>2</td>\n",
       "      <td>7</td>\n",
       "      <td>5</td>\n",
       "      <td>2017</td>\n",
       "      <td>1</td>\n",
       "      <td>...</td>\n",
       "      <td>2.0</td>\n",
       "      <td>1</td>\n",
       "      <td>NaN</td>\n",
       "      <td>1</td>\n",
       "      <td>1</td>\n",
       "      <td>1.0</td>\n",
       "      <td>23</td>\n",
       "      <td>4</td>\n",
       "      <td>11</td>\n",
       "      <td>1.0</td>\n",
       "    </tr>\n",
       "    <tr>\n",
       "      <th>1045746</th>\n",
       "      <td>5</td>\n",
       "      <td>1</td>\n",
       "      <td>1</td>\n",
       "      <td>1</td>\n",
       "      <td>NaN</td>\n",
       "      <td>1</td>\n",
       "      <td>6</td>\n",
       "      <td>4</td>\n",
       "      <td>2018</td>\n",
       "      <td>6</td>\n",
       "      <td>...</td>\n",
       "      <td>1.0</td>\n",
       "      <td>2</td>\n",
       "      <td>29/02/2008</td>\n",
       "      <td>2</td>\n",
       "      <td>1</td>\n",
       "      <td>1.0</td>\n",
       "      <td>30</td>\n",
       "      <td>7</td>\n",
       "      <td>2</td>\n",
       "      <td>1.0</td>\n",
       "    </tr>\n",
       "  </tbody>\n",
       "</table>\n",
       "<p>3 rows × 38 columns</p>\n",
       "</div>"
      ],
      "text/plain": [
       "         COD_DPTO  COD_MUNIC  AREANAC  SIT_PARTO OTRO_SIT  SEXO  PESO_NAC  \\\n",
       "51828           5          1        1          1      NaN     2         6   \n",
       "74026          66          1        1          1      NaN     2         7   \n",
       "1045746         5          1        1          1      NaN     1         6   \n",
       "\n",
       "         TALLA_NAC   ANO  MES  ...  AREA_RES  N_HIJOSV  FECHA_NACM  N_EMB  \\\n",
       "51828            5  2017    5  ...       1.0         2  27/12/2005      3   \n",
       "74026            5  2017    1  ...       2.0         1         NaN      1   \n",
       "1045746          4  2018    6  ...       1.0         2  29/02/2008      2   \n",
       "\n",
       "         SEG_SOCIAL  IDCLASADMI  EDAD_PADRE  NIV_EDUP  ULTCURPAD  PROFESION  \n",
       "51828             1         1.0          39         4         11        1.0  \n",
       "74026             1         1.0          23         4         11        1.0  \n",
       "1045746           1         1.0          30         7          2        1.0  \n",
       "\n",
       "[3 rows x 38 columns]"
      ]
     },
     "execution_count": 11,
     "metadata": {},
     "output_type": "execute_result"
    }
   ],
   "source": [
    "#Columnas para el perfil demografico de la madre. \n",
    "columns = [\"EDAD_MADRE\",\"SEG_SOCIAL\",\"EST_CIVM\",\"IDCLASADMI\",\"IDPERTET\"]\n",
    "nacs.sample(3)"
   ]
  },
  {
   "cell_type": "markdown",
   "metadata": {},
   "source": [
    "## Análisis de calidad de los datos.  "
   ]
  },
  {
   "cell_type": "markdown",
   "metadata": {},
   "source": [
    "### Completitud. "
   ]
  },
  {
   "cell_type": "code",
   "execution_count": 12,
   "metadata": {},
   "outputs": [
    {
     "data": {
      "text/plain": [
       "IDCLASADMI    0.064541\n",
       "EDAD_MADRE    0.000000\n",
       "SEG_SOCIAL    0.000000\n",
       "EST_CIVM      0.000000\n",
       "IDPERTET      0.000000\n",
       "dtype: float64"
      ]
     },
     "execution_count": 12,
     "metadata": {},
     "output_type": "execute_result"
    }
   ],
   "source": [
    "((nacs[columns].isnull().sum()/nacs[columns].shape[0])).sort_values(ascending=False)"
   ]
  },
  {
   "cell_type": "markdown",
   "metadata": {},
   "source": [
    "Podemos evidenciar que la unica columna que presenta errores de completitud entre las seleccionadas para este analisis es IDCLASADMI, sin embargo, solo tiene 6% de datos faltantes, que se puede asumir igual a la categoria 9 de la columna, que indica que no hay informacion sobre la entidad administradora de salud de la madre. "
   ]
  },
  {
   "cell_type": "markdown",
   "metadata": {},
   "source": [
    "### Duplicidad. "
   ]
  },
  {
   "cell_type": "code",
   "execution_count": 13,
   "metadata": {},
   "outputs": [
    {
     "data": {
      "text/plain": [
       "np.int64(8121)"
      ]
     },
     "execution_count": 13,
     "metadata": {},
     "output_type": "execute_result"
    }
   ],
   "source": [
    "nacs.duplicated(keep = False).sum()"
   ]
  },
  {
   "cell_type": "markdown",
   "metadata": {},
   "source": [
    "Para todas estas columnas tiene sentido que existan muchos valores duplicados, por lo que no es un rubro que se deba tener en cuenta para este analisis. "
   ]
  },
  {
   "cell_type": "markdown",
   "metadata": {},
   "source": [
    "### Consistencia"
   ]
  },
  {
   "cell_type": "markdown",
   "metadata": {},
   "source": [
    "Para todas estas columnas no hay posibles validaciones de consistencia que se puedan realizar con otras columnas, por lo que este rubro no aplica para este analisis. "
   ]
  },
  {
   "cell_type": "markdown",
   "metadata": {},
   "source": [
    "### Validez "
   ]
  },
  {
   "cell_type": "code",
   "execution_count": 20,
   "metadata": {},
   "outputs": [
    {
     "name": "stdout",
     "output_type": "stream",
     "text": [
      "EDAD_MADRE\n",
      "3     708958\n",
      "4     611767\n",
      "2     453575\n",
      "5     416360\n",
      "6     222495\n",
      "7      56914\n",
      "1      20446\n",
      "8       4052\n",
      "99      1222\n",
      "9        569\n",
      "Name: count, dtype: int64\n",
      "SEG_SOCIAL\n",
      "2    1351872\n",
      "1     932179\n",
      "5     161047\n",
      "3      48137\n",
      "9       2388\n",
      "4        735\n",
      "Name: count, dtype: int64\n",
      "EST_CIVM\n",
      "1    1299861\n",
      "2     470247\n",
      "6     335057\n",
      "5     315791\n",
      "9      65618\n",
      "3       7394\n",
      "4       2390\n",
      "Name: count, dtype: int64\n",
      "IDCLASADMI\n",
      "2.0    1351878\n",
      "1.0     932055\n",
      "NaN     161118\n",
      "5.0      48136\n",
      "9.0       2322\n",
      "4.0        732\n",
      "3.0        117\n",
      "Name: count, dtype: int64\n",
      "IDPERTET\n",
      "6    2279612\n",
      "1     106603\n",
      "5     106027\n",
      "9       2154\n",
      "3       1395\n",
      "2        293\n",
      "4        274\n",
      "Name: count, dtype: int64\n"
     ]
    }
   ],
   "source": [
    "for col in columns:\n",
    "  print(nacs[col].value_counts(dropna = False))"
   ]
  },
  {
   "cell_type": "markdown",
   "metadata": {},
   "source": [
    "Ademas de los errores de completitud de la columna IDCLASADMI, no se pueden identificar valores en ninguna de las columnas que se salgan de las categorias registradas en el diccionario de datos, por lo que no presentan errores de validez. "
   ]
  }
 ],
 "metadata": {
  "kernelspec": {
   "display_name": "Python 3",
   "language": "python",
   "name": "python3"
  },
  "language_info": {
   "codemirror_mode": {
    "name": "ipython",
    "version": 3
   },
   "file_extension": ".py",
   "mimetype": "text/x-python",
   "name": "python",
   "nbconvert_exporter": "python",
   "pygments_lexer": "ipython3",
   "version": "3.12.3"
  }
 },
 "nbformat": 4,
 "nbformat_minor": 2
}
